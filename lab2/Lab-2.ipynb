{
 "cells": [
  {
   "cell_type": "markdown",
   "id": "loose-emerald",
   "metadata": {},
   "source": [
    "# 1. ResolutionFailure: Your dependencies could not be resolved\n",
    "\n",
    "Найдите python пакет, имеющий зависимость от любого python пакета, использованного вами в первой лабораторной. Создайте свой пакет и установите его с конфликтующими зависимостями\n",
    "\n",
    "1. Создайте и [загрузите в pypi](https://betterscientificsoftware.github.io/python-for-hpc/tutorials/python-pypi-packaging/) свой пакет, проверьте, что его можно установить через pip\n",
    "- [Мой пакет](https://test.pypi.org/project/helloKaraseva/)"
   ]
  },
  {
   "cell_type": "markdown",
   "id": "0badca3d",
   "metadata": {},
   "source": [
    "2. Установите свой пакет с помощью pip"
   ]
  },
  {
   "cell_type": "code",
   "execution_count": 2,
   "id": "f8f95dc5",
   "metadata": {
    "collapsed": false,
    "jupyter": {
     "outputs_hidden": false
    },
    "pycharm": {
     "name": "#%%\n"
    }
   },
   "outputs": [
    {
     "name": "stdout",
     "output_type": "stream",
     "text": [
      "Requirement already satisfied: pandas in d:\\study\\5sem\\da\\lab2\\venv\\lib\\site-packages (1.3.4)\n",
      "Requirement already satisfied: numpy>=1.17.3 in d:\\study\\5sem\\da\\lab2\\venv\\lib\\site-packages (from pandas) (1.21.4)\n",
      "Requirement already satisfied: pytz>=2017.3 in d:\\study\\5sem\\da\\lab2\\venv\\lib\\site-packages (from pandas) (2021.3)\n",
      "Requirement already satisfied: python-dateutil>=2.7.3 in d:\\study\\5sem\\da\\lab2\\venv\\lib\\site-packages (from pandas) (2.8.2)\n",
      "Requirement already satisfied: six>=1.5 in d:\\study\\5sem\\da\\lab2\\venv\\lib\\site-packages (from python-dateutil>=2.7.3->pandas) (1.16.0)\n",
      "Note: you may need to restart the kernel to use updated packages.\n",
      "Requirement already satisfied: helloKaraseva in d:\\study\\5sem\\da\\lab2 (0.1.0)\n",
      "Requirement already satisfied: numpy>=1.17.3 in d:\\study\\5sem\\da\\lab2\\venv\\lib\\site-packages (from helloKaraseva) (1.21.4)\n",
      "Note: you may need to restart the kernel to use updated packages.\n"
     ]
    }
   ],
   "source": [
    "%pip install pandas\n",
    "%pip install helloKaraseva"
   ]
  },
  {
   "cell_type": "markdown",
   "id": "afc8cad5",
   "metadata": {},
   "source": [
    "3. Установите свой пакет в любую вируальную среду"
   ]
  },
  {
   "cell_type": "code",
   "execution_count": 1,
   "id": "6f997a46",
   "metadata": {
    "collapsed": false,
    "jupyter": {
     "outputs_hidden": false
    },
    "pycharm": {
     "name": "#%%\n"
    }
   },
   "outputs": [
    {
     "name": "stdout",
     "output_type": "stream",
     "text": [
      "Collecting helloKaraseva\n",
      "  Using cached helloKaraseva-0.1.0-py2.py3-none-any.whl (1.6 kB)\n",
      "Requirement already satisfied: numpy>=1.17.3 in c:\\users\\user\\appdata\\local\\programs\\python\\python39\\lib\\site-packages (from helloKaraseva) (1.21.2)\n",
      "Installing collected packages: helloKaraseva\n",
      "Successfully installed helloKaraseva-0.1.0\n",
      "Note: you may need to restart the kernel to use updated packages.\n"
     ]
    }
   ],
   "source": [
    "# установка среды и активация из командной строки\n",
    "# python -m venv PRG2\n",
    "# PRG2\\Scripts\\activate.bat\n",
    "\n",
    "# установка пакета\n",
    "%pip install helloKaraseva"
   ]
  },
  {
   "cell_type": "markdown",
   "id": "942cb409",
   "metadata": {},
   "source": [
    "4. Продемонстрируйте корректно работающие функции в своём python-пакете"
   ]
  },
  {
   "cell_type": "code",
   "execution_count": 2,
   "id": "772c9c69",
   "metadata": {
    "collapsed": false,
    "jupyter": {
     "outputs_hidden": false
    },
    "pycharm": {
     "name": "#%%\n"
    }
   },
   "outputs": [
    {
     "name": "stdout",
     "output_type": "stream",
     "text": [
      "Karaseva says hello to you\n"
     ]
    }
   ],
   "source": [
    "from helloKaraseva import fun\n",
    "fun.fun()\n",
    "# деактивация из командной строки\n",
    "# PRG2\\Scripts\\deactivate.bat\n"
   ]
  },
  {
   "cell_type": "markdown",
   "id": "animated-fight",
   "metadata": {},
   "source": [
    "# 2. Да кто так пишет?!\n",
    "\n",
    "Возьмите произвольный дипломный проект по машинному обучению. Для этого скорее всего будет достаточно найти на github проекты по запросу \"machine learning thesis\" и профильтровать по языку \"Jupyter Notebook\". С большой вероятностью код случайно выбранного диплома в этой сфере будет ужасным. Приведите код в порядок:\n",
    "\n",
    "- вынесите занимающий место функционал в python модули\n",
    "- напишите аннотации типов для функций\n",
    "- добавьте конфиги для параметров\n",
    "- если это не требует углубления в логику дипломной работы, расставьте порядок запуска ноутбуков и/или скриптов\n",
    "- для случайных процессов зафиксируйте seed\n",
    "- выделите зависимости, создайте pipenv файлы\n",
    "- сделайте пулреквест автору: покажите своё культурное превосходство\n",
    "\n",
    "\n",
    "Выберите такой проект, который:\n",
    "- ещё не был выбран вашими одногруппниками\n",
    "- относительно небольшой по количеству файлов. Не стоит тратить много времени на это задание\n",
    "- содержит как минимум половину грехов из списка исправлений выше"
   ]
  },
  {
   "cell_type": "markdown",
   "id": "alive-armor",
   "metadata": {},
   "source": [
    "# 3. Press Shift+Enter to get 300k/sec salary\n",
    "\n",
    "Выберите произвольный Google Colab notebook из этого крутого [репозитория](https://github.com/amrzv/awesome-colab-notebooks), запустите и примените к своим данным"
   ]
  },
  {
   "cell_type": "markdown",
   "id": "geographic-group",
   "metadata": {
    "pycharm": {
     "name": "#%% md\n"
    }
   },
   "source": [
    "- [выбранный проект](https://huggingface.co/spaces/flax-community/dalle-mini)\n",
    "- входные данные: strawberry cake\n",
    "- [копия блокнота, запущенного на моих входных данных](https://colab.research.google.com/drive/1rEgN_RcRdhNNKI4S-I8KNpiQOVbJVYD8)"
   ]
  }
 ],
 "metadata": {
  "kernelspec": {
   "display_name": "Python 3 (ipykernel)",
   "language": "python",
   "name": "python3"
  },
  "language_info": {
   "codemirror_mode": {
    "name": "ipython",
    "version": 3
   },
   "file_extension": ".py",
   "mimetype": "text/x-python",
   "name": "python",
   "nbconvert_exporter": "python",
   "pygments_lexer": "ipython3",
   "version": "3.9.7"
  }
 },
 "nbformat": 4,
 "nbformat_minor": 5
}